{
  "nbformat": 4,
  "nbformat_minor": 0,
  "metadata": {
    "colab": {
      "provenance": []
    },
    "kernelspec": {
      "name": "python3",
      "display_name": "Python 3"
    },
    "language_info": {
      "name": "python"
    }
  },
  "cells": [
    {
      "cell_type": "code",
      "execution_count": null,
      "metadata": {
        "id": "rSBgPSLgiFDa"
      },
      "outputs": [],
      "source": []
    },
    {
      "cell_type": "markdown",
      "source": [
        "1. Explain the different types of data (qualitative and quantitative) and provide examples of each. Discuss\n",
        "nominal, ordinal, interval, and ratio scales"
      ],
      "metadata": {
        "id": "txioZ6feiYFR"
      }
    },
    {
      "cell_type": "markdown",
      "source": [
        "Qualitative (Categorical): Describes qualities or categories.\n",
        "\n",
        "\n",
        "Nominal: No order. Example: Colors (red, blue, green).\n",
        "\n",
        "\n",
        "Ordinal: Ordered but no fixed interval. Example: Rankings (gold, silver, bronze).\n",
        "\n",
        "\n",
        "Quantitative (Numerical): Describes measurable quantities.\n",
        "\n",
        "\n",
        "Interval: Fixed intervals but no true zero. Example: Temperature in Celsius.\n",
        "\n",
        "\n",
        "Ratio: Fixed intervals with a true zero. Example: Weight (0 kg means no weight).\n",
        "\n",
        "\n"
      ],
      "metadata": {
        "id": "LLMZn8oCicfy"
      }
    },
    {
      "cell_type": "markdown",
      "source": [
        " 2. What are the measures of central tendency, and when should you use each? Discuss the mean, median,\n",
        "and mode with examples and situations where each is appropriate"
      ],
      "metadata": {
        "id": "xI2hNoBNihcB"
      }
    },
    {
      "cell_type": "markdown",
      "source": [
        "Mean (Average): Best for symmetrical data.\n",
        "\n",
        "\n",
        "Example: Average age in a class.\n",
        "\n",
        "\n",
        "Median (Middle Value): Best for skewed data or outliers.\n",
        "\n",
        "\n",
        "Example: Median house price when some houses are extremely expensive.\n",
        "\n",
        "\n",
        "Mode (Most Frequent): Best for categorical data.\n",
        "\n",
        "\n",
        "Example: Most preferred ice cream flavor.\n",
        "\n",
        "\n"
      ],
      "metadata": {
        "id": "Hz3sL3dJil5J"
      }
    },
    {
      "cell_type": "markdown",
      "source": [
        " 3. Explain the concept of dispersion. How do variance and standard deviation measure the spread of data?"
      ],
      "metadata": {
        "id": "WNWfxkqhir3y"
      }
    },
    {
      "cell_type": "markdown",
      "source": [
        "Dispersion: Shows how spread out data is.\n",
        "\n",
        "\n",
        "Variance: Average of squared deviations from the mean.\n",
        "\n",
        "\n",
        "Example: High variance means data points are spread out.\n",
        "\n",
        "\n",
        "Standard Deviation: Square root of variance.\n",
        "\n",
        "\n",
        "Example: Easier to interpret as it’s in the same unit as the data.\n"
      ],
      "metadata": {
        "id": "yVCGuS5piuDa"
      }
    },
    {
      "cell_type": "markdown",
      "source": [
        "4. What is a box plot, and what can it tell you about the distribution of data?"
      ],
      "metadata": {
        "id": "JiEHXj3viyXk"
      }
    },
    {
      "cell_type": "markdown",
      "source": [
        "A box plot visually shows data distribution:\n",
        "\n",
        "\n",
        "Middle line: Median.\n",
        "\n",
        "\n",
        "Box edges: Quartiles (25th and 75th percentile).\n",
        "\n",
        "\n",
        "Whiskers: Range of most data.\n",
        "\n",
        "\n",
        "Dots: Outliers.\n",
        "\n",
        "\n",
        "It helps identify spread and outliers.\n"
      ],
      "metadata": {
        "id": "D0RTEjoKi1jU"
      }
    },
    {
      "cell_type": "markdown",
      "source": [
        "5. Discuss the role of random sampling in making inferences about populations"
      ],
      "metadata": {
        "id": "GqmzzDafi5R4"
      }
    },
    {
      "cell_type": "markdown",
      "source": [
        "Ensures every individual in a population has an equal chance of selection.\n",
        "\n",
        "\n",
        "Helps make accurate inferences about a population without surveying everyone.\n",
        "\n",
        "\n",
        "Example: Polling a subset of voters to predict election results.\n"
      ],
      "metadata": {
        "id": "68oZ3Qqci7T0"
      }
    },
    {
      "cell_type": "markdown",
      "source": [
        "6. Explain the concept of skewness and its types. How does skewness affect the interpretation of data"
      ],
      "metadata": {
        "id": "87okWIM_i-fC"
      }
    },
    {
      "cell_type": "markdown",
      "source": [
        "Measures the asymmetry of data distribution:\n",
        "\n",
        "\n",
        "Positive Skew: Long tail on the right. Example: Income data.\n",
        "\n",
        "\n",
        "Negative Skew: Long tail on the left. Example: Exam scores with a high pass rate.\n",
        "\n",
        "\n",
        "Skewness affects the reliability of the mean as a measure of central tendency.\n"
      ],
      "metadata": {
        "id": "EJiBSeZgjBuz"
      }
    },
    {
      "cell_type": "markdown",
      "source": [
        " 7. What is the interquartile range (IQR), and how is it used to detect outliers?"
      ],
      "metadata": {
        "id": "ycYrTQG7jEXb"
      }
    },
    {
      "cell_type": "markdown",
      "source": [
        "IQR: Difference between the 75th and 25th percentiles.\n",
        "\n",
        "\n",
        "Formula: IQR=Q3−Q1\\text{IQR} = Q3 - Q1IQR=Q3−Q1.\n",
        "\n",
        "\n",
        "Detects outliers:\n",
        "\n",
        "\n",
        "Outliers are values below Q1−1.5×IQRQ1 - 1.5 \\times \\text{IQR}Q1−1.5×IQR or above Q3+1.5×IQRQ3 + 1.5 \\times \\text{IQR}Q3+1.5×IQR.\n"
      ],
      "metadata": {
        "id": "C3XZWt1PjGtc"
      }
    },
    {
      "cell_type": "markdown",
      "source": [
        "8. Discuss the conditions under which the binomial distribution is used."
      ],
      "metadata": {
        "id": "HBMjhKXCjJYa"
      }
    },
    {
      "cell_type": "markdown",
      "source": [
        "Used when there are fixed trials with two outcomes (success/failure).\n",
        "\n",
        "\n",
        "Conditions: Fixed trials, independent events, constant probability.\n",
        "\n",
        "\n",
        "Example: Flipping a coin 10 times and counting heads.\n"
      ],
      "metadata": {
        "id": "f6qgSaz1jLVA"
      }
    },
    {
      "cell_type": "markdown",
      "source": [
        " 9. Explain the properties of the normal distribution and the empirical rule (68-95-99.7 rule)"
      ],
      "metadata": {
        "id": "LVpY9xmFjPJc"
      }
    },
    {
      "cell_type": "markdown",
      "source": [
        "Normal Distribution: Symmetrical, bell-shaped curve.\n",
        "\n",
        "\n",
        "Empirical Rule:\n",
        "\n",
        "\n",
        "68% of data lies within 1 SD of the mean.\n",
        "\n",
        "\n",
        "95% lies within 2 SDs.\n",
        "\n",
        "\n",
        "99.7% lies within 3 SDs.\n",
        "\n",
        "\n",
        "Example: Heights of adults.\n",
        "\n",
        "\n"
      ],
      "metadata": {
        "id": "CtjnCCqVjRn7"
      }
    },
    {
      "cell_type": "markdown",
      "source": [
        " 10. Provide a real-life example of a Poisson process and calculate the probability for a specific event."
      ],
      "metadata": {
        "id": "tCXhVBEmjUDN"
      }
    },
    {
      "cell_type": "markdown",
      "source": [
        "Models events occurring at a constant average rate independently.\n",
        "\n",
        "\n",
        "Example: Calls received by a call center.\n",
        "\n",
        "\n",
        "Probability Formula: P(X=k)=e−λλkk!P(X=k) = \\frac{e^{-\\lambda} \\lambda^k}{k!}P(X=k)=k!e−λλk​, where λ\\lambdaλ is the average rate.\n",
        "\n",
        "\n"
      ],
      "metadata": {
        "id": "9Z_bBp2ojWGw"
      }
    },
    {
      "cell_type": "markdown",
      "source": [
        " 11. Explain what a random variable is and differentiate between discrete and continuous random variables"
      ],
      "metadata": {
        "id": "HXjX3HymjYln"
      }
    },
    {
      "cell_type": "markdown",
      "source": [
        "Random Variable: Represents outcomes of a random event.\n",
        "\n",
        "\n",
        "Discrete: Countable values. Example: Number of students in a class.\n",
        "\n",
        "\n",
        "Continuous: Any value within a range. Example: Weight of a fruit."
      ],
      "metadata": {
        "id": "UsAxFzyvja7Q"
      }
    },
    {
      "cell_type": "markdown",
      "source": [
        " 12. Provide an example dataset, calculate both covariance and correlation, and interpret the results"
      ],
      "metadata": {
        "id": "nLrj8UXzjduR"
      }
    },
    {
      "cell_type": "markdown",
      "source": [
        "Covariance: Indicates the direction of the relationship between two variables.\n",
        "\n",
        "\n",
        "Example: Positive covariance suggests both increase together.\n",
        "\n",
        "\n",
        "Correlation: Measures strength and direction of the relationship (range: -1 to 1).\n",
        "\n",
        "\n",
        "Example: Correlation of 0.8 means a strong positive relationship.\n"
      ],
      "metadata": {
        "id": "4Ibhu287jfgq"
      }
    }
  ]
}